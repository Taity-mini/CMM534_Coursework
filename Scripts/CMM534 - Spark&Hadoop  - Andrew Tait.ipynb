{
 "cells": [
  {
   "cell_type": "markdown",
   "metadata": {},
   "source": [
    "# Exploring the data"
   ]
  },
  {
   "cell_type": "code",
   "execution_count": null,
   "metadata": {
    "collapsed": true
   },
   "outputs": [],
   "source": [
    "#Get the log files"
   ]
  },
  {
   "cell_type": "code",
   "execution_count": 1,
   "metadata": {
    "collapsed": true
   },
   "outputs": [],
   "source": [
    "flumeFiles = (\"/loudacre/weblogs/FlumeData.*\")"
   ]
  },
  {
   "cell_type": "code",
   "execution_count": 2,
   "metadata": {
    "collapsed": true
   },
   "outputs": [],
   "source": [
    "accountFiles = (\"/loudacre/accounts/part-m*\")"
   ]
  },
  {
   "cell_type": "code",
   "execution_count": 22,
   "metadata": {
    "collapsed": true
   },
   "outputs": [],
   "source": [
    "baseStation = (\"/loudacre/base_stations.tsv\")"
   ]
  },
  {
   "cell_type": "code",
   "execution_count": null,
   "metadata": {
    "collapsed": true
   },
   "outputs": [],
   "source": [
    "# Setup RDS"
   ]
  },
  {
   "cell_type": "code",
   "execution_count": 27,
   "metadata": {
    "collapsed": true
   },
   "outputs": [],
   "source": [
    "accounts = sc.textFile(accountFiles).map(lambda line: line.split(','))"
   ]
  },
  {
   "cell_type": "code",
   "execution_count": 25,
   "metadata": {
    "collapsed": false
   },
   "outputs": [],
   "source": [
    "basestations = sc.textFile(baseStation).map(lambda line: line.split('\\t'))"
   ]
  },
  {
   "cell_type": "code",
   "execution_count": 28,
   "metadata": {
    "collapsed": false
   },
   "outputs": [
    {
     "data": {
      "text/plain": [
       "[[u'1',\n",
       "  u'2008-10-23 16:05:05.0',\n",
       "  u'\\\\N',\n",
       "  u'Donald',\n",
       "  u'Becton',\n",
       "  u'2275 Washburn Street',\n",
       "  u'Oakland',\n",
       "  u'CA',\n",
       "  u'94660',\n",
       "  u'5100032418',\n",
       "  u'2014-03-18 13:29:47.0',\n",
       "  u'2014-03-18 13:29:47.0'],\n",
       " [u'2',\n",
       "  u'2008-11-12 03:00:01.0',\n",
       "  u'\\\\N',\n",
       "  u'Donna',\n",
       "  u'Jones',\n",
       "  u'3885 Elliott Street',\n",
       "  u'San Francisco',\n",
       "  u'CA',\n",
       "  u'94171',\n",
       "  u'4150835799',\n",
       "  u'2014-03-18 13:29:47.0',\n",
       "  u'2014-03-18 13:29:47.0'],\n",
       " [u'3',\n",
       "  u'2008-12-21 09:19:50.0',\n",
       "  u'\\\\N',\n",
       "  u'Dorthy',\n",
       "  u'Chalmers',\n",
       "  u'4073 Whaley Lane',\n",
       "  u'San Mateo',\n",
       "  u'CA',\n",
       "  u'94479',\n",
       "  u'6506877757',\n",
       "  u'2014-03-18 13:29:47.0',\n",
       "  u'2014-03-18 13:29:47.0'],\n",
       " [u'4',\n",
       "  u'2008-11-28 00:08:09.0',\n",
       "  u'\\\\N',\n",
       "  u'Leila',\n",
       "  u'Spencer',\n",
       "  u'1447 Ross Street',\n",
       "  u'San Mateo',\n",
       "  u'CA',\n",
       "  u'94444',\n",
       "  u'6503198619',\n",
       "  u'2014-03-18 13:29:47.0',\n",
       "  u'2014-03-18 13:29:47.0'],\n",
       " [u'5',\n",
       "  u'2008-11-15 23:06:06.0',\n",
       "  u'\\\\N',\n",
       "  u'Anita',\n",
       "  u'Laughlin',\n",
       "  u'2767 Hill Street',\n",
       "  u'Richmond',\n",
       "  u'CA',\n",
       "  u'94872',\n",
       "  u'5107754354',\n",
       "  u'2014-03-18 13:29:47.0',\n",
       "  u'2014-03-18 13:29:47.0']]"
      ]
     },
     "execution_count": 28,
     "metadata": {},
     "output_type": "execute_result"
    }
   ],
   "source": [
    "accounts.take(5)"
   ]
  },
  {
   "cell_type": "code",
   "execution_count": 26,
   "metadata": {
    "collapsed": false
   },
   "outputs": [
    {
     "data": {
      "text/plain": [
       "[[u'1', u'86502', u'Chambers', u'AZ', u'35.2375', u'-109.523'],\n",
       " [u'2', u'86514', u'Teec Nos Pos', u'AZ', u'36.7797', u'-109.359'],\n",
       " [u'3', u'85602', u'Benson', u'AZ', u'31.9883', u'-110.2941'],\n",
       " [u'4', u'86011', u'Flagstaff', u'AZ', u'35.6308', u'-112.0524'],\n",
       " [u'5', u'86016', u'Gray Mountain', u'AZ', u'35.6308', u'-112.0524']]"
      ]
     },
     "execution_count": 26,
     "metadata": {},
     "output_type": "execute_result"
    }
   ],
   "source": [
    "basestations.take(5)"
   ]
  },
  {
   "cell_type": "code",
   "execution_count": 17,
   "metadata": {
    "collapsed": false
   },
   "outputs": [
    {
     "data": {
      "text/plain": [
       "129764"
      ]
     },
     "execution_count": 17,
     "metadata": {},
     "output_type": "execute_result"
    }
   ],
   "source": [
    "#How many users are there in total?\n",
    "accounts.count()"
   ]
  },
  {
   "cell_type": "code",
   "execution_count": 73,
   "metadata": {
    "collapsed": false
   },
   "outputs": [],
   "source": [
    "#Take cities from accounts rds\n",
    "cities = accounts.map(lambda fields: (fields[6]))"
   ]
  },
  {
   "cell_type": "code",
   "execution_count": 78,
   "metadata": {
    "collapsed": false
   },
   "outputs": [
    {
     "data": {
      "text/plain": [
       "[u'Oakland', u'San Francisco', u'San Mateo', u'San Mateo', u'Richmond']"
      ]
     },
     "execution_count": 78,
     "metadata": {},
     "output_type": "execute_result"
    }
   ],
   "source": [
    "#Display 5 cities\n",
    "cities.take(5)"
   ]
  },
  {
   "cell_type": "code",
   "execution_count": 74,
   "metadata": {
    "collapsed": false
   },
   "outputs": [],
   "source": [
    "#Get unique cities\n",
    "cities_unique = cities.distinct()"
   ]
  },
  {
   "cell_type": "code",
   "execution_count": 76,
   "metadata": {
    "collapsed": false
   },
   "outputs": [
    {
     "data": {
      "text/plain": [
       "56"
      ]
     },
     "execution_count": 76,
     "metadata": {},
     "output_type": "execute_result"
    }
   ],
   "source": [
    "#How many cities have users\n",
    "cities_unique.count()"
   ]
  },
  {
   "cell_type": "code",
   "execution_count": 83,
   "metadata": {
    "collapsed": false
   },
   "outputs": [],
   "source": [
    "#Get unique cities per basestations\n",
    "cities_basestations = basestations.map(lambda fields: fields[2]).distinct()"
   ]
  },
  {
   "cell_type": "code",
   "execution_count": 84,
   "metadata": {
    "collapsed": false
   },
   "outputs": [
    {
     "data": {
      "text/plain": [
       "238"
      ]
     },
     "execution_count": 84,
     "metadata": {},
     "output_type": "execute_result"
    }
   ],
   "source": [
    "#How many ciites have base stations\n",
    "cities_basestations.count()"
   ]
  },
  {
   "cell_type": "code",
   "execution_count": 30,
   "metadata": {
    "collapsed": false
   },
   "outputs": [
    {
     "data": {
      "text/plain": [
       "377"
      ]
     },
     "execution_count": 30,
     "metadata": {},
     "output_type": "execute_result"
    }
   ],
   "source": [
    "#How many basestation are there in total?\n",
    "basestations.count()"
   ]
  },
  {
   "cell_type": "code",
   "execution_count": null,
   "metadata": {
    "collapsed": true
   },
   "outputs": [],
   "source": []
  },
  {
   "cell_type": "code",
   "execution_count": null,
   "metadata": {
    "collapsed": true
   },
   "outputs": [],
   "source": []
  }
 ],
 "metadata": {
  "kernelspec": {
   "display_name": "Python 2",
   "language": "python",
   "name": "python2"
  },
  "language_info": {
   "codemirror_mode": {
    "name": "ipython",
    "version": 2
   },
   "file_extension": ".py",
   "mimetype": "text/x-python",
   "name": "python",
   "nbconvert_exporter": "python",
   "pygments_lexer": "ipython2",
   "version": "2.7.8"
  }
 },
 "nbformat": 4,
 "nbformat_minor": 0
}
