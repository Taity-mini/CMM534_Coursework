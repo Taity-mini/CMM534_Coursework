{
 "cells": [
  {
   "cell_type": "markdown",
   "metadata": {},
   "source": [
    "# Exploring the data"
   ]
  },
  {
   "cell_type": "code",
   "execution_count": null,
   "metadata": {
    "collapsed": true
   },
   "outputs": [],
   "source": [
    "#Get the log files"
   ]
  },
  {
   "cell_type": "code",
   "execution_count": 1,
   "metadata": {
    "collapsed": true
   },
   "outputs": [],
   "source": [
    "flumeFiles = (\"/loudacre/weblogs/FlumeData.*\")"
   ]
  },
  {
   "cell_type": "code",
   "execution_count": 2,
   "metadata": {
    "collapsed": true
   },
   "outputs": [],
   "source": [
    "accountFiles = (\"/loudacre/accounts/part-m*\")"
   ]
  },
  {
   "cell_type": "code",
   "execution_count": 22,
   "metadata": {
    "collapsed": true
   },
   "outputs": [],
   "source": [
    "baseStation = (\"/loudacre/base_stations.tsv\")"
   ]
  },
  {
   "cell_type": "code",
   "execution_count": null,
   "metadata": {
    "collapsed": true
   },
   "outputs": [],
   "source": [
    "# Setup RDS"
   ]
  },
  {
   "cell_type": "code",
   "execution_count": 27,
   "metadata": {
    "collapsed": true
   },
   "outputs": [],
   "source": [
    "accounts = sc.textFile(accountFiles).map(lambda line: line.split(','))"
   ]
  },
  {
   "cell_type": "code",
   "execution_count": 25,
   "metadata": {
    "collapsed": false
   },
   "outputs": [],
   "source": [
    "basestations = sc.textFile(baseStation).map(lambda line: line.split('\\t'))"
   ]
  },
  {
   "cell_type": "code",
   "execution_count": 28,
   "metadata": {
    "collapsed": false
   },
   "outputs": [
    {
     "data": {
      "text/plain": [
       "[[u'1',\n",
       "  u'2008-10-23 16:05:05.0',\n",
       "  u'\\\\N',\n",
       "  u'Donald',\n",
       "  u'Becton',\n",
       "  u'2275 Washburn Street',\n",
       "  u'Oakland',\n",
       "  u'CA',\n",
       "  u'94660',\n",
       "  u'5100032418',\n",
       "  u'2014-03-18 13:29:47.0',\n",
       "  u'2014-03-18 13:29:47.0'],\n",
       " [u'2',\n",
       "  u'2008-11-12 03:00:01.0',\n",
       "  u'\\\\N',\n",
       "  u'Donna',\n",
       "  u'Jones',\n",
       "  u'3885 Elliott Street',\n",
       "  u'San Francisco',\n",
       "  u'CA',\n",
       "  u'94171',\n",
       "  u'4150835799',\n",
       "  u'2014-03-18 13:29:47.0',\n",
       "  u'2014-03-18 13:29:47.0'],\n",
       " [u'3',\n",
       "  u'2008-12-21 09:19:50.0',\n",
       "  u'\\\\N',\n",
       "  u'Dorthy',\n",
       "  u'Chalmers',\n",
       "  u'4073 Whaley Lane',\n",
       "  u'San Mateo',\n",
       "  u'CA',\n",
       "  u'94479',\n",
       "  u'6506877757',\n",
       "  u'2014-03-18 13:29:47.0',\n",
       "  u'2014-03-18 13:29:47.0'],\n",
       " [u'4',\n",
       "  u'2008-11-28 00:08:09.0',\n",
       "  u'\\\\N',\n",
       "  u'Leila',\n",
       "  u'Spencer',\n",
       "  u'1447 Ross Street',\n",
       "  u'San Mateo',\n",
       "  u'CA',\n",
       "  u'94444',\n",
       "  u'6503198619',\n",
       "  u'2014-03-18 13:29:47.0',\n",
       "  u'2014-03-18 13:29:47.0'],\n",
       " [u'5',\n",
       "  u'2008-11-15 23:06:06.0',\n",
       "  u'\\\\N',\n",
       "  u'Anita',\n",
       "  u'Laughlin',\n",
       "  u'2767 Hill Street',\n",
       "  u'Richmond',\n",
       "  u'CA',\n",
       "  u'94872',\n",
       "  u'5107754354',\n",
       "  u'2014-03-18 13:29:47.0',\n",
       "  u'2014-03-18 13:29:47.0']]"
      ]
     },
     "execution_count": 28,
     "metadata": {},
     "output_type": "execute_result"
    }
   ],
   "source": [
    "accounts.take(5)"
   ]
  },
  {
   "cell_type": "code",
   "execution_count": 26,
   "metadata": {
    "collapsed": false
   },
   "outputs": [
    {
     "data": {
      "text/plain": [
       "[[u'1', u'86502', u'Chambers', u'AZ', u'35.2375', u'-109.523'],\n",
       " [u'2', u'86514', u'Teec Nos Pos', u'AZ', u'36.7797', u'-109.359'],\n",
       " [u'3', u'85602', u'Benson', u'AZ', u'31.9883', u'-110.2941'],\n",
       " [u'4', u'86011', u'Flagstaff', u'AZ', u'35.6308', u'-112.0524'],\n",
       " [u'5', u'86016', u'Gray Mountain', u'AZ', u'35.6308', u'-112.0524']]"
      ]
     },
     "execution_count": 26,
     "metadata": {},
     "output_type": "execute_result"
    }
   ],
   "source": [
    "basestations.take(5)"
   ]
  },
  {
   "cell_type": "code",
   "execution_count": 17,
   "metadata": {
    "collapsed": false
   },
   "outputs": [
    {
     "data": {
      "text/plain": [
       "129764"
      ]
     },
     "execution_count": 17,
     "metadata": {},
     "output_type": "execute_result"
    }
   ],
   "source": [
    "#How many users are there in total?\n",
    "accounts.count()"
   ]
  },
  {
   "cell_type": "code",
   "execution_count": 73,
   "metadata": {
    "collapsed": false
   },
   "outputs": [],
   "source": [
    "#Take cities from accounts rds\n",
    "cities = accounts.map(lambda fields: (fields[6]))"
   ]
  },
  {
   "cell_type": "code",
   "execution_count": 78,
   "metadata": {
    "collapsed": false
   },
   "outputs": [
    {
     "data": {
      "text/plain": [
       "[u'Oakland', u'San Francisco', u'San Mateo', u'San Mateo', u'Richmond']"
      ]
     },
     "execution_count": 78,
     "metadata": {},
     "output_type": "execute_result"
    }
   ],
   "source": [
    "#Display 5 cities\n",
    "cities.take(5)"
   ]
  },
  {
   "cell_type": "code",
   "execution_count": 74,
   "metadata": {
    "collapsed": false
   },
   "outputs": [],
   "source": [
    "#Get unique cities\n",
    "cities_unique = cities.distinct()"
   ]
  },
  {
   "cell_type": "code",
   "execution_count": 76,
   "metadata": {
    "collapsed": false
   },
   "outputs": [
    {
     "data": {
      "text/plain": [
       "56"
      ]
     },
     "execution_count": 76,
     "metadata": {},
     "output_type": "execute_result"
    }
   ],
   "source": [
    "#How many cities have users\n",
    "cities_unique.count()"
   ]
  },
  {
   "cell_type": "code",
   "execution_count": 83,
   "metadata": {
    "collapsed": false
   },
   "outputs": [],
   "source": [
    "#Get unique cities per basestations\n",
    "cities_basestations = basestations.map(lambda fields: fields[2]).distinct()"
   ]
  },
  {
   "cell_type": "code",
   "execution_count": 84,
   "metadata": {
    "collapsed": false
   },
   "outputs": [
    {
     "data": {
      "text/plain": [
       "238"
      ]
     },
     "execution_count": 84,
     "metadata": {},
     "output_type": "execute_result"
    }
   ],
   "source": [
    "#How many citeis have base stations\n",
    "cities_basestations.count()"
   ]
  },
  {
   "cell_type": "code",
   "execution_count": 30,
   "metadata": {
    "collapsed": false
   },
   "outputs": [
    {
     "data": {
      "text/plain": [
       "377"
      ]
     },
     "execution_count": 30,
     "metadata": {},
     "output_type": "execute_result"
    }
   ],
   "source": [
    "#How many basestation are there in total?\n",
    "basestations.count()"
   ]
  },
  {
   "cell_type": "markdown",
   "metadata": {},
   "source": [
    "# More detailed Analysis"
   ]
  },
  {
   "cell_type": "code",
   "execution_count": 100,
   "metadata": {
    "collapsed": true
   },
   "outputs": [],
   "source": [
    "#Get all accounts in the Oregon state\n",
    "oregon = accounts.filter(lambda x: \"OR\" in x[7])"
   ]
  },
  {
   "cell_type": "code",
   "execution_count": 101,
   "metadata": {
    "collapsed": false
   },
   "outputs": [
    {
     "data": {
      "text/plain": [
       "13575"
      ]
     },
     "execution_count": 101,
     "metadata": {},
     "output_type": "execute_result"
    }
   ],
   "source": [
    "oregon.count()"
   ]
  },
  {
   "cell_type": "code",
   "execution_count": 103,
   "metadata": {
    "collapsed": false
   },
   "outputs": [
    {
     "data": {
      "text/plain": [
       "[u'3509',\n",
       " u'2010-09-05 22:43:35.0',\n",
       " u'\\\\N',\n",
       " u'Cody',\n",
       " u'Martinez',\n",
       " u'265 Langtown Road',\n",
       " u'Eugene',\n",
       " u'OR',\n",
       " u'97487',\n",
       " u'5414866653',\n",
       " u'2014-03-18 13:29:53.0',\n",
       " u'2014-03-18 13:29:53.0']"
      ]
     },
     "execution_count": 103,
     "metadata": {},
     "output_type": "execute_result"
    }
   ],
   "source": [
    "oregon.first()"
   ]
  },
  {
   "cell_type": "code",
   "execution_count": 110,
   "metadata": {
    "collapsed": true
   },
   "outputs": [],
   "source": [
    "oregonUsers = oregon.map(lambda fields: (fields[6], fields[0]))"
   ]
  },
  {
   "cell_type": "code",
   "execution_count": 112,
   "metadata": {
    "collapsed": false
   },
   "outputs": [
    {
     "data": {
      "text/plain": [
       "(u'Eugene', u'3509')"
      ]
     },
     "execution_count": 112,
     "metadata": {},
     "output_type": "execute_result"
    }
   ],
   "source": [
    "oregonUsers.first()"
   ]
  },
  {
   "cell_type": "code",
   "execution_count": 129,
   "metadata": {
    "collapsed": false
   },
   "outputs": [],
   "source": [
    "userCityFreq = oregonUsers.countByKey()"
   ]
  },
  {
   "cell_type": "code",
   "execution_count": 131,
   "metadata": {
    "collapsed": false
   },
   "outputs": [
    {
     "data": {
      "text/plain": [
       "defaultdict(<type 'int'>, {u'Pendleton': 1455, u'Salem': 1496, u'Bend': 1528, u'Portland': 4602, u'Klamath Falls': 1463, u'Medford': 1511, u'Eugene': 1520})"
      ]
     },
     "execution_count": 131,
     "metadata": {},
     "output_type": "execute_result"
    }
   ],
   "source": [
    "#Output the number users in each city in Orgeon\n",
    "(userCityFreq)"
   ]
  },
  {
   "cell_type": "code",
   "execution_count": 337,
   "metadata": {
    "collapsed": false
   },
   "outputs": [],
   "source": [
    "#Get RDD of all users and their cities\n",
    "allUsersCities = accounts.map(lambda fields: (fields[6])).map(lambda word: (word,1))\\\n",
    ".reduceByKey(lambda v1,v2:\tv1+v2)"
   ]
  },
  {
   "cell_type": "code",
   "execution_count": 338,
   "metadata": {
    "collapsed": false
   },
   "outputs": [
    {
     "data": {
      "text/plain": [
       "[(u'Sacramento', 6820),\n",
       " (u'San Diego', 4618),\n",
       " (u'Santa Barbara', 3067),\n",
       " (u'Anaheim', 1544),\n",
       " (u'Salem', 1496)]"
      ]
     },
     "execution_count": 338,
     "metadata": {},
     "output_type": "execute_result"
    }
   ],
   "source": [
    "#Show the first 5  rows\n",
    "allUsersCities.take(5)"
   ]
  },
  {
   "cell_type": "code",
   "execution_count": 242,
   "metadata": {
    "collapsed": true
   },
   "outputs": [],
   "source": [
    "allUsersCitiesFreq = allUsersCities.countByKey()"
   ]
  },
  {
   "cell_type": "code",
   "execution_count": 243,
   "metadata": {
    "collapsed": false
   },
   "outputs": [
    {
     "data": {
      "text/plain": [
       "defaultdict(<type 'int'>, {u'Show Low': 1, u'Palm Springs': 1, u'North Hollywood': 1, u'Inglewood': 1, u'Pendleton': 1, u'Santa Monica': 1, u'Elko': 1, u'Richmond': 1, u'Prescott': 1, u'Ely': 1, u'Redding': 1, u'Reno': 1, u'Santa Rosa': 1, u'Santa Ana': 1, u'San Francisco': 1, u'Riverside': 1, u'San Mateo': 1, u'Torrance': 1, u'Eugene': 1, u'Flagstaff': 1, u'Sacramento': 1, u'San Diego': 1, u'Alhambra': 1, u'Las Vegas': 1, u'Marysville': 1, u'Berkeley': 1, u'Van Nuys': 1, u'Klamath Falls': 1, u'Carson City': 1, u'Bakersfield': 1, u'Los Angeles': 1, u'Pasadena': 1, u'Industry': 1, u'San Jose': 1, u'Burbank': 1, u'Eureka': 1, u'Anaheim': 1, u'Phoenix': 1, u'Palo Alto': 1, u'Glendale': 1, u'San Bernardino': 1, u'Medford': 1, u'Mojave': 1, u'Stockton': 1, u'Fresno': 1, u'Globe': 1, u'Tucson': 1, u'Oxnard': 1, u'Long Beach': 1, u'Salinas': 1, u'Salem': 1, u'Bend': 1, u'Portland': 1, u'Oakland': 1, u'Kingman': 1, u'Santa Barbara': 1})"
      ]
     },
     "execution_count": 243,
     "metadata": {},
     "output_type": "execute_result"
    }
   ],
   "source": [
    "allUsersCitiesFreq"
   ]
  },
  {
   "cell_type": "code",
   "execution_count": 333,
   "metadata": {
    "collapsed": false
   },
   "outputs": [],
   "source": [
    "allBasesCities = basestations.map(lambda fields: (fields[2])).map(lambda word: (word,1))\\\n",
    ".reduceByKey(lambda v1,v2:\tv1+v2)"
   ]
  },
  {
   "cell_type": "code",
   "execution_count": 335,
   "metadata": {
    "collapsed": false
   },
   "outputs": [
    {
     "data": {
      "text/plain": [
       "[(u'Blue', 1),\n",
       " (u'Loomis', 1),\n",
       " (u'Baker City', 1),\n",
       " (u'Packwood', 1),\n",
       " (u'Bullhead City', 1),\n",
       " (u'Santa Fe Springs', 1),\n",
       " (u'Round Mountain', 1),\n",
       " (u'Apple Valley', 1),\n",
       " (u'Eldridge', 1),\n",
       " (u'Santa Rosa', 1),\n",
       " (u'Toledo', 1),\n",
       " (u'San Francisco', 15),\n",
       " (u'Hansen', 1),\n",
       " (u'Henderson', 1),\n",
       " (u'Sterling', 1),\n",
       " (u'Lodi', 1),\n",
       " (u'North Highlands', 1),\n",
       " (u'Corcoran', 1),\n",
       " (u'Sacramento', 4),\n",
       " (u'Scottsdale', 2),\n",
       " (u'Laton', 1),\n",
       " (u'Needles', 1),\n",
       " (u'Butte Falls', 1),\n",
       " (u'Berkeley', 1),\n",
       " (u'Oregon House', 1),\n",
       " (u'Othello', 1),\n",
       " (u'Upland', 1),\n",
       " (u'Mc Call', 1),\n",
       " (u'Canyon Country', 1),\n",
       " (u'Whittier', 3),\n",
       " (u'Greenwood', 1),\n",
       " (u'Blue Gap', 1),\n",
       " (u'Flagstaff', 1),\n",
       " (u'Rimrock', 1),\n",
       " (u'Laveen', 1),\n",
       " (u'King City', 1),\n",
       " (u'Ballico', 1),\n",
       " (u'Brea', 1),\n",
       " (u'Nephi', 1),\n",
       " (u'Blanchard', 1),\n",
       " (u'Saint Benedict', 1),\n",
       " (u'San Jacinto', 1),\n",
       " (u'Redding', 1),\n",
       " (u'Chico', 1),\n",
       " (u'Olympia', 1),\n",
       " (u'Bellingham', 1),\n",
       " (u'Witter Springs', 1),\n",
       " (u'Fresno', 2),\n",
       " (u'Glenoma', 1),\n",
       " (u'Dillard', 1),\n",
       " (u'Belmont', 1),\n",
       " (u'Long Beach', 3),\n",
       " (u'Pasadena', 2),\n",
       " (u'Salt Lake City', 13),\n",
       " (u'Casa Grande', 1),\n",
       " (u'Stanley', 1),\n",
       " (u'Halsey', 1),\n",
       " (u'Seattle', 14),\n",
       " (u'Santa Barbara', 2),\n",
       " (u'Jackson', 1),\n",
       " (u'Wellpinit', 1),\n",
       " (u'Fontana', 2),\n",
       " (u'Sunnyside', 1),\n",
       " (u'Grayland', 1),\n",
       " (u'Duck Creek Village', 1),\n",
       " (u'Rathdrum', 1),\n",
       " (u'Irvine', 4),\n",
       " (u'Orange', 1),\n",
       " (u'Coeur D Alene', 1),\n",
       " (u'National City', 1),\n",
       " (u'San Mateo', 2),\n",
       " (u'Sedona', 1),\n",
       " (u'Appleton', 1),\n",
       " (u'Peoria', 1),\n",
       " (u'San Diego', 18),\n",
       " (u'Hawthorne', 1),\n",
       " (u'Boise', 5),\n",
       " (u'San Bernardino', 1),\n",
       " (u'Tensed', 1),\n",
       " (u'Camarillo', 1),\n",
       " (u'Los Angeles', 23),\n",
       " (u'Meadview', 1),\n",
       " (u'Cornville', 1),\n",
       " (u'Brookdale', 1),\n",
       " (u'Alpine', 1),\n",
       " (u'Spokane', 3),\n",
       " (u'Penryn', 1),\n",
       " (u'Bridgeport', 1),\n",
       " (u'San Jose', 15),\n",
       " (u'Burbank', 2),\n",
       " (u'Bow', 1),\n",
       " (u'North Powder', 1),\n",
       " (u'Tucson', 4),\n",
       " (u'Dupont', 1),\n",
       " (u'Sunnyvale', 1),\n",
       " (u'Umatilla', 1),\n",
       " (u'Mc Gill', 1),\n",
       " (u'Fielding', 1),\n",
       " (u'Winterhaven', 1),\n",
       " (u'Fountain Valley', 1)]"
      ]
     },
     "execution_count": 335,
     "metadata": {},
     "output_type": "execute_result"
    }
   ],
   "source": [
    "allBasesCities.take(100)"
   ]
  },
  {
   "cell_type": "code",
   "execution_count": 339,
   "metadata": {
    "collapsed": false
   },
   "outputs": [],
   "source": [
    "cityUsersBases = allUsersCities.join(allBasesCities)"
   ]
  },
  {
   "cell_type": "code",
   "execution_count": 340,
   "metadata": {
    "collapsed": false
   },
   "outputs": [
    {
     "data": {
      "text/plain": [
       "[(u'Carson City', (1360, 1)),\n",
       " (u'Glendale', (1493, 2)),\n",
       " (u'Richmond', (1746, 1)),\n",
       " (u'San Francisco', (3354, 15)),\n",
       " (u'Sacramento', (6820, 4)),\n",
       " (u'Flagstaff', (1181, 1)),\n",
       " (u'Long Beach', (4500, 3)),\n",
       " (u'Palm Springs', (1482, 1)),\n",
       " (u'Redding', (1587, 1)),\n",
       " (u'Riverside', (1477, 1))]"
      ]
     },
     "execution_count": 340,
     "metadata": {},
     "output_type": "execute_result"
    }
   ],
   "source": [
    "cityUsersBases.take(10)"
   ]
  },
  {
   "cell_type": "code",
   "execution_count": null,
   "metadata": {
    "collapsed": true
   },
   "outputs": [],
   "source": []
  }
 ],
 "metadata": {
  "kernelspec": {
   "display_name": "Python 2",
   "language": "python",
   "name": "python2"
  },
  "language_info": {
   "codemirror_mode": {
    "name": "ipython",
    "version": 2
   },
   "file_extension": ".py",
   "mimetype": "text/x-python",
   "name": "python",
   "nbconvert_exporter": "python",
   "pygments_lexer": "ipython2",
   "version": "2.7.8"
  }
 },
 "nbformat": 4,
 "nbformat_minor": 0
}
