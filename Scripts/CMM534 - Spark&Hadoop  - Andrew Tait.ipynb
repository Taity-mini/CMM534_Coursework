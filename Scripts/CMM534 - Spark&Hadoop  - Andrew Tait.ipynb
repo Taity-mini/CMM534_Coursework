{
 "cells": [
  {
   "cell_type": "markdown",
   "metadata": {},
   "source": [
    "# Exploring the data"
   ]
  },
  {
   "cell_type": "code",
   "execution_count": null,
   "metadata": {
    "collapsed": true
   },
   "outputs": [],
   "source": [
    "#Get the log files"
   ]
  },
  {
   "cell_type": "code",
   "execution_count": 1,
   "metadata": {
    "collapsed": true
   },
   "outputs": [],
   "source": [
    "flumeFiles = (\"/loudacre/weblogs/FlumeData.*\")"
   ]
  },
  {
   "cell_type": "code",
   "execution_count": 2,
   "metadata": {
    "collapsed": true
   },
   "outputs": [],
   "source": [
    "accountFiles = (\"/loudacre/accounts/part-m*\")"
   ]
  },
  {
   "cell_type": "code",
   "execution_count": 22,
   "metadata": {
    "collapsed": true
   },
   "outputs": [],
   "source": [
    "baseStation = (\"/loudacre/base_stations.tsv\")"
   ]
  },
  {
   "cell_type": "code",
   "execution_count": null,
   "metadata": {
    "collapsed": true
   },
   "outputs": [],
   "source": [
    "# Setup RDS"
   ]
  },
  {
   "cell_type": "code",
   "execution_count": 27,
   "metadata": {
    "collapsed": true
   },
   "outputs": [],
   "source": [
    "accounts = sc.textFile(accountFiles).map(lambda line: line.split(','))"
   ]
  },
  {
   "cell_type": "code",
   "execution_count": 25,
   "metadata": {
    "collapsed": false
   },
   "outputs": [],
   "source": [
    "basestations = sc.textFile(baseStation).map(lambda line: line.split('\\t'))"
   ]
  },
  {
   "cell_type": "code",
   "execution_count": 28,
   "metadata": {
    "collapsed": false
   },
   "outputs": [
    {
     "data": {
      "text/plain": [
       "[[u'1',\n",
       "  u'2008-10-23 16:05:05.0',\n",
       "  u'\\\\N',\n",
       "  u'Donald',\n",
       "  u'Becton',\n",
       "  u'2275 Washburn Street',\n",
       "  u'Oakland',\n",
       "  u'CA',\n",
       "  u'94660',\n",
       "  u'5100032418',\n",
       "  u'2014-03-18 13:29:47.0',\n",
       "  u'2014-03-18 13:29:47.0'],\n",
       " [u'2',\n",
       "  u'2008-11-12 03:00:01.0',\n",
       "  u'\\\\N',\n",
       "  u'Donna',\n",
       "  u'Jones',\n",
       "  u'3885 Elliott Street',\n",
       "  u'San Francisco',\n",
       "  u'CA',\n",
       "  u'94171',\n",
       "  u'4150835799',\n",
       "  u'2014-03-18 13:29:47.0',\n",
       "  u'2014-03-18 13:29:47.0'],\n",
       " [u'3',\n",
       "  u'2008-12-21 09:19:50.0',\n",
       "  u'\\\\N',\n",
       "  u'Dorthy',\n",
       "  u'Chalmers',\n",
       "  u'4073 Whaley Lane',\n",
       "  u'San Mateo',\n",
       "  u'CA',\n",
       "  u'94479',\n",
       "  u'6506877757',\n",
       "  u'2014-03-18 13:29:47.0',\n",
       "  u'2014-03-18 13:29:47.0'],\n",
       " [u'4',\n",
       "  u'2008-11-28 00:08:09.0',\n",
       "  u'\\\\N',\n",
       "  u'Leila',\n",
       "  u'Spencer',\n",
       "  u'1447 Ross Street',\n",
       "  u'San Mateo',\n",
       "  u'CA',\n",
       "  u'94444',\n",
       "  u'6503198619',\n",
       "  u'2014-03-18 13:29:47.0',\n",
       "  u'2014-03-18 13:29:47.0'],\n",
       " [u'5',\n",
       "  u'2008-11-15 23:06:06.0',\n",
       "  u'\\\\N',\n",
       "  u'Anita',\n",
       "  u'Laughlin',\n",
       "  u'2767 Hill Street',\n",
       "  u'Richmond',\n",
       "  u'CA',\n",
       "  u'94872',\n",
       "  u'5107754354',\n",
       "  u'2014-03-18 13:29:47.0',\n",
       "  u'2014-03-18 13:29:47.0']]"
      ]
     },
     "execution_count": 28,
     "metadata": {},
     "output_type": "execute_result"
    }
   ],
   "source": [
    "accounts.take(5)"
   ]
  },
  {
   "cell_type": "code",
   "execution_count": 26,
   "metadata": {
    "collapsed": false
   },
   "outputs": [
    {
     "data": {
      "text/plain": [
       "[[u'1', u'86502', u'Chambers', u'AZ', u'35.2375', u'-109.523'],\n",
       " [u'2', u'86514', u'Teec Nos Pos', u'AZ', u'36.7797', u'-109.359'],\n",
       " [u'3', u'85602', u'Benson', u'AZ', u'31.9883', u'-110.2941'],\n",
       " [u'4', u'86011', u'Flagstaff', u'AZ', u'35.6308', u'-112.0524'],\n",
       " [u'5', u'86016', u'Gray Mountain', u'AZ', u'35.6308', u'-112.0524']]"
      ]
     },
     "execution_count": 26,
     "metadata": {},
     "output_type": "execute_result"
    }
   ],
   "source": [
    "basestations.take(5)"
   ]
  },
  {
   "cell_type": "code",
   "execution_count": 17,
   "metadata": {
    "collapsed": false
   },
   "outputs": [
    {
     "data": {
      "text/plain": [
       "129764"
      ]
     },
     "execution_count": 17,
     "metadata": {},
     "output_type": "execute_result"
    }
   ],
   "source": [
    "#How many users are there in total?\n",
    "accounts.count()"
   ]
  },
  {
   "cell_type": "code",
   "execution_count": 73,
   "metadata": {
    "collapsed": false
   },
   "outputs": [],
   "source": [
    "#Take cities from accounts rds\n",
    "cities = accounts.map(lambda fields: (fields[6]))"
   ]
  },
  {
   "cell_type": "code",
   "execution_count": 78,
   "metadata": {
    "collapsed": false
   },
   "outputs": [
    {
     "data": {
      "text/plain": [
       "[u'Oakland', u'San Francisco', u'San Mateo', u'San Mateo', u'Richmond']"
      ]
     },
     "execution_count": 78,
     "metadata": {},
     "output_type": "execute_result"
    }
   ],
   "source": [
    "#Display 5 cities\n",
    "cities.take(5)"
   ]
  },
  {
   "cell_type": "code",
   "execution_count": 74,
   "metadata": {
    "collapsed": false
   },
   "outputs": [],
   "source": [
    "#Get unique cities\n",
    "cities_unique = cities.distinct()"
   ]
  },
  {
   "cell_type": "code",
   "execution_count": 76,
   "metadata": {
    "collapsed": false
   },
   "outputs": [
    {
     "data": {
      "text/plain": [
       "56"
      ]
     },
     "execution_count": 76,
     "metadata": {},
     "output_type": "execute_result"
    }
   ],
   "source": [
    "#How many cities have users\n",
    "cities_unique.count()"
   ]
  },
  {
   "cell_type": "code",
   "execution_count": 83,
   "metadata": {
    "collapsed": false
   },
   "outputs": [],
   "source": [
    "#Get unique cities per basestations\n",
    "cities_basestations = basestations.map(lambda fields: fields[2]).distinct()"
   ]
  },
  {
   "cell_type": "code",
   "execution_count": 84,
   "metadata": {
    "collapsed": false
   },
   "outputs": [
    {
     "data": {
      "text/plain": [
       "238"
      ]
     },
     "execution_count": 84,
     "metadata": {},
     "output_type": "execute_result"
    }
   ],
   "source": [
    "#How many citeis have base stations\n",
    "cities_basestations.count()"
   ]
  },
  {
   "cell_type": "code",
   "execution_count": 30,
   "metadata": {
    "collapsed": false
   },
   "outputs": [
    {
     "data": {
      "text/plain": [
       "377"
      ]
     },
     "execution_count": 30,
     "metadata": {},
     "output_type": "execute_result"
    }
   ],
   "source": [
    "#How many basestation are there in total?\n",
    "basestations.count()"
   ]
  },
  {
   "cell_type": "markdown",
   "metadata": {},
   "source": [
    "# More detailed Analysis"
   ]
  },
  {
   "cell_type": "code",
   "execution_count": 100,
   "metadata": {
    "collapsed": true
   },
   "outputs": [],
   "source": [
    "#Get all accounts in the Oregon state\n",
    "oregon = accounts.filter(lambda x: \"OR\" in x[7])"
   ]
  },
  {
   "cell_type": "code",
   "execution_count": 101,
   "metadata": {
    "collapsed": false
   },
   "outputs": [
    {
     "data": {
      "text/plain": [
       "13575"
      ]
     },
     "execution_count": 101,
     "metadata": {},
     "output_type": "execute_result"
    }
   ],
   "source": [
    "oregon.count()"
   ]
  },
  {
   "cell_type": "code",
   "execution_count": 103,
   "metadata": {
    "collapsed": false
   },
   "outputs": [
    {
     "data": {
      "text/plain": [
       "[u'3509',\n",
       " u'2010-09-05 22:43:35.0',\n",
       " u'\\\\N',\n",
       " u'Cody',\n",
       " u'Martinez',\n",
       " u'265 Langtown Road',\n",
       " u'Eugene',\n",
       " u'OR',\n",
       " u'97487',\n",
       " u'5414866653',\n",
       " u'2014-03-18 13:29:53.0',\n",
       " u'2014-03-18 13:29:53.0']"
      ]
     },
     "execution_count": 103,
     "metadata": {},
     "output_type": "execute_result"
    }
   ],
   "source": [
    "oregon.first()"
   ]
  },
  {
   "cell_type": "code",
   "execution_count": 110,
   "metadata": {
    "collapsed": true
   },
   "outputs": [],
   "source": [
    "oregonUsers = oregon.map(lambda fields: (fields[6], fields[0]))"
   ]
  },
  {
   "cell_type": "code",
   "execution_count": 112,
   "metadata": {
    "collapsed": false
   },
   "outputs": [
    {
     "data": {
      "text/plain": [
       "(u'Eugene', u'3509')"
      ]
     },
     "execution_count": 112,
     "metadata": {},
     "output_type": "execute_result"
    }
   ],
   "source": [
    "oregonUsers.first()"
   ]
  },
  {
   "cell_type": "code",
   "execution_count": 129,
   "metadata": {
    "collapsed": false
   },
   "outputs": [],
   "source": [
    "userCityFreq = oregonUsers.countByKey()"
   ]
  },
  {
   "cell_type": "code",
   "execution_count": 131,
   "metadata": {
    "collapsed": false
   },
   "outputs": [
    {
     "data": {
      "text/plain": [
       "defaultdict(<type 'int'>, {u'Pendleton': 1455, u'Salem': 1496, u'Bend': 1528, u'Portland': 4602, u'Klamath Falls': 1463, u'Medford': 1511, u'Eugene': 1520})"
      ]
     },
     "execution_count": 131,
     "metadata": {},
     "output_type": "execute_result"
    }
   ],
   "source": [
    "#Output the number users in each city in Orgeon\n",
    "(userCityFreq)"
   ]
  },
  {
   "cell_type": "code",
   "execution_count": 139,
   "metadata": {
    "collapsed": false
   },
   "outputs": [],
   "source": [
    "#Get RDD of all users and their cities\n",
    "allUsersCities = accounts.map(lambda fields: (fields[6], fields[0]))"
   ]
  },
  {
   "cell_type": "code",
   "execution_count": 136,
   "metadata": {
    "collapsed": false
   },
   "outputs": [
    {
     "data": {
      "text/plain": [
       "[(u'Oakland', u'1'),\n",
       " (u'San Francisco', u'2'),\n",
       " (u'San Mateo', u'3'),\n",
       " (u'San Mateo', u'4'),\n",
       " (u'Richmond', u'5')]"
      ]
     },
     "execution_count": 136,
     "metadata": {},
     "output_type": "execute_result"
    }
   ],
   "source": [
    "#Show the first 5  rows\n",
    "allUsersCities.take(5)"
   ]
  },
  {
   "cell_type": "code",
   "execution_count": 138,
   "metadata": {
    "collapsed": true
   },
   "outputs": [],
   "source": [
    "allUsersCitiesFreq = allUsersCities.countByKey()"
   ]
  },
  {
   "cell_type": "code",
   "execution_count": 143,
   "metadata": {
    "collapsed": false
   },
   "outputs": [
    {
     "data": {
      "text/plain": [
       "defaultdict(<type 'int'>, {u'Show Low': 1112, u'Santa Monica': 1496, u'North Hollywood': 1501, u'Inglewood': 3023, u'Pendleton': 1455, u'Palm Springs': 1482, u'Elko': 1355, u'Richmond': 1746, u'Glendale': 1493, u'Pasadena': 2961, u'Redding': 1587, u'Oxnard': 1508, u'Santa Rosa': 3340, u'Santa Ana': 3073, u'San Francisco': 3354, u'Riverside': 1477, u'San Mateo': 1768, u'Torrance': 1454, u'Eugene': 1520, u'Phoenix': 4648, u'Sacramento': 6820, u'San Diego': 4618, u'Alhambra': 1487, u'Salem': 1496, u'Marysville': 1619, u'Berkeley': 1698, u'Van Nuys': 2955, u'Klamath Falls': 1463, u'Carson City': 1360, u'Flagstaff': 1181, u'Bakersfield': 3010, u'Los Angeles': 2979, u'Industry': 1513, u'San Jose': 3269, u'Burbank': 1495, u'Eureka': 1638, u'Tucson': 2308, u'Palo Alto': 1741, u'Prescott': 1151, u'San Bernardino': 2985, u'Medford': 1511, u'Mojave': 1504, u'Stockton': 3309, u'Fresno': 4418, u'Globe': 1163, u'Anaheim': 1544, u'Reno': 2787, u'Long Beach': 4500, u'Salinas': 1495, u'Las Vegas': 4142, u'Bend': 1528, u'Ely': 1373, u'Portland': 4602, u'Oakland': 3491, u'Kingman': 1191, u'Santa Barbara': 3067})"
      ]
     },
     "execution_count": 143,
     "metadata": {},
     "output_type": "execute_result"
    }
   ],
   "source": [
    "allUsersCitiesFreq"
   ]
  },
  {
   "cell_type": "code",
   "execution_count": 160,
   "metadata": {
    "collapsed": true
   },
   "outputs": [],
   "source": [
    "allBasesCities = basestations.map(lambda fields: (fields[2], fields[1]))"
   ]
  },
  {
   "cell_type": "code",
   "execution_count": 161,
   "metadata": {
    "collapsed": false
   },
   "outputs": [
    {
     "data": {
      "text/plain": [
       "[(u'Chambers', u'86502'),\n",
       " (u'Teec Nos Pos', u'86514'),\n",
       " (u'Benson', u'85602'),\n",
       " (u'Flagstaff', u'86011'),\n",
       " (u'Gray Mountain', u'86016')]"
      ]
     },
     "execution_count": 161,
     "metadata": {},
     "output_type": "execute_result"
    }
   ],
   "source": [
    "allBasesCities.take(5)"
   ]
  },
  {
   "cell_type": "code",
   "execution_count": 162,
   "metadata": {
    "collapsed": true
   },
   "outputs": [],
   "source": [
    "allBasesCitiesFreq = allBasesCities.countByKey()"
   ]
  },
  {
   "cell_type": "code",
   "execution_count": 163,
   "metadata": {
    "collapsed": false
   },
   "outputs": [
    {
     "data": {
      "text/plain": [
       "defaultdict(<type 'int'>, {u'Blue': 1, u'Loomis': 1, u'Baker City': 1, u'Packwood': 1, u'Bullhead City': 1, u'Santa Fe Springs': 1, u'Round Mountain': 1, u'Apple Valley': 1, u'Eldridge': 1, u'Santa Rosa': 1, u'Toledo': 1, u'San Francisco': 15, u'Hansen': 1, u'Henderson': 1, u'Sterling': 1, u'Lodi': 1, u'North Highlands': 1, u'Corcoran': 1, u'Sacramento': 4, u'Scottsdale': 2, u'Laton': 1, u'Needles': 1, u'Butte Falls': 1, u'Berkeley': 1, u'Oregon House': 1, u'Othello': 1, u'Upland': 1, u'Mc Call': 1, u'Canyon Country': 1, u'Whittier': 3, u'Greenwood': 1, u'Blue Gap': 1, u'Flagstaff': 1, u'Rimrock': 1, u'Laveen': 1, u'King City': 1, u'Ballico': 1, u'Brea': 1, u'Nephi': 1, u'Blanchard': 1, u'Saint Benedict': 1, u'San Jacinto': 1, u'Redding': 1, u'Chico': 1, u'Olympia': 1, u'Bellingham': 1, u'Witter Springs': 1, u'Fresno': 2, u'Glenoma': 1, u'Dillard': 1, u'Belmont': 1, u'Long Beach': 3, u'Pasadena': 2, u'Salt Lake City': 13, u'Casa Grande': 1, u'Stanley': 1, u'Halsey': 1, u'Seattle': 14, u'Santa Barbara': 2, u'Jackson': 1, u'Wellpinit': 1, u'Fontana': 2, u'Sunnyside': 1, u'Grayland': 1, u'Duck Creek Village': 1, u'Rathdrum': 1, u'Irvine': 4, u'Orange': 1, u'Coeur D Alene': 1, u'National City': 1, u'San Mateo': 2, u'Sedona': 1, u'Appleton': 1, u'Peoria': 1, u'San Diego': 18, u'Hawthorne': 1, u'Boise': 5, u'San Bernardino': 1, u'Tensed': 1, u'Camarillo': 1, u'Los Angeles': 23, u'Meadview': 1, u'Cornville': 1, u'Brookdale': 1, u'Alpine': 1, u'Spokane': 3, u'Penryn': 1, u'Bridgeport': 1, u'San Jose': 15, u'Burbank': 2, u'Bow': 1, u'North Powder': 1, u'Tucson': 4, u'Dupont': 1, u'Sunnyvale': 1, u'Umatilla': 1, u'Mc Gill': 1, u'Fielding': 1, u'Winterhaven': 1, u'Fountain Valley': 1, u'Golconda': 1, u'Gaston': 1, u'Vineburg': 1, u'Bountiful': 1, u'Long Creek': 1, u'Cedarville': 1, u'Valentine': 1, u'Petaluma': 1, u'Modesto': 1, u'Battle Ground': 1, u'Aguila': 1, u'Kooskia': 1, u'Tacoma': 3, u'Yacolt': 1, u'Paskenta': 1, u'Norwalk': 2, u'Palm Springs': 1, u'Glendale': 2, u'Quincy': 1, u'Pe Ell': 1, u'Alhambra': 1, u'Fullerton': 1, u'Richmond': 1, u'Pixley': 1, u'Landers': 1, u'Pollock': 1, u'Laketown': 1, u'Cobb': 1, u'Chicago Park': 1, u'Riverside': 1, u'Finley': 1, u'Lacey': 1, u'Redwood City': 2, u'Fort Hall': 1, u'Burlingame': 1, u'Mountain View': 1, u'Inglewood': 1, u'Salmon': 1, u'Baring': 1, u'Trail': 1, u'El Cajon': 2, u'Idyllwild': 1, u'Mesa': 1, u'Crescent City': 1, u'Junction City': 1, u'Benson': 1, u'Chatsworth': 1, u'Mariposa': 1, u'San Anselmo': 1, u'Myton': 1, u'Agoura Hills': 1, u'Aromas': 1, u'Wellington': 1, u'Atwood': 1, u'Anaheim': 1, u'Government Camp': 1, u'Parks': 1, u'Bicknell': 1, u'Priest River': 1, u'Stockton': 2, u'Concord': 1, u'Startup': 1, u'Arivaca': 1, u'Bridal Veil': 1, u'Park City': 1, u'Oregon City': 1, u'Happy Camp': 1, u'Lakeport': 1, u'Carrolls': 1, u'Buena Park': 1, u'Kamas': 1, u'Las Vegas': 7, u'California City': 1, u'Elmo': 1, u'Peach Springs': 1, u'Koosharem': 1, u'San Gregorio': 1, u'Sun Valley': 1, u'Clearlake Park': 1, u'Idaho Falls': 1, u'Gray Mountain': 1, u'Vancouver': 1, u'Yorkville': 1, u'Valencia': 1, u'Belden': 1, u'Ivins': 1, u'Safford': 1, u'Torrance': 1, u'Wilbur': 1, u'Nubieber': 1, u'Quilcene': 1, u'Culver City': 1, u'Northridge': 1, u'Raymond': 1, u'Phoenix': 1, u'Gilbert': 1, u'Colton': 1, u'Underwood': 1, u'Apache Junction': 1, u'Bothell': 1, u'Middleton': 1, u'San Ramon': 1, u'Cabazon': 1, u'Tracy': 1, u'Isleton': 1, u'Carson City': 1, u'Bates': 1, u'Tetonia': 1, u'Corvallis': 1, u'Compton': 1, u'Topanga': 1, u'Tremonton': 1, u'Payson': 1, u'Oroville': 1, u'Pismo Beach': 1, u'Courtland': 1, u'Alta': 1, u'Beaver': 1, u'River Pines': 1, u'Neola': 1, u'Dover': 1, u'Clifton': 1, u'Spanaway': 1, u'Groveland': 1, u'Pioche': 1, u'Ventura': 1, u'Reno': 2, u'Logan': 1, u'Cottonwood': 1, u'Molalla': 1, u'Callahan': 1, u'Teec Nos Pos': 1, u'Brigham City': 1, u'Chambers': 1, u'Portland': 7, u'Oakland': 2, u'Everett': 1, u'Inchelium': 1})"
      ]
     },
     "execution_count": 163,
     "metadata": {},
     "output_type": "execute_result"
    }
   ],
   "source": [
    "allBasesCitiesFreq"
   ]
  },
  {
   "cell_type": "code",
   "execution_count": 165,
   "metadata": {
    "collapsed": false
   },
   "outputs": [
    {
     "ename": "AttributeError",
     "evalue": "'collections.defaultdict' object has no attribute 'union'",
     "output_type": "error",
     "traceback": [
      "\u001b[1;31m---------------------------------------------------------------------------\u001b[0m",
      "\u001b[1;31mAttributeError\u001b[0m                            Traceback (most recent call last)",
      "\u001b[1;32m<ipython-input-165-7563ccdcfa7f>\u001b[0m in \u001b[0;36m<module>\u001b[1;34m()\u001b[0m\n\u001b[1;32m----> 1\u001b[1;33m \u001b[0mcityUsersBases\u001b[0m \u001b[1;33m=\u001b[0m \u001b[0mallUsersCitiesFreq\u001b[0m\u001b[1;33m.\u001b[0m\u001b[0munion\u001b[0m\u001b[1;33m(\u001b[0m\u001b[0mallBasesCitiesFreq\u001b[0m\u001b[1;33m)\u001b[0m\u001b[1;33m\u001b[0m\u001b[0m\n\u001b[0m",
      "\u001b[1;31mAttributeError\u001b[0m: 'collections.defaultdict' object has no attribute 'union'"
     ]
    }
   ],
   "source": [
    "cityUsersBases = allUsersCitiesFreq.union(allBasesCitiesFreq)"
   ]
  }
 ],
 "metadata": {
  "kernelspec": {
   "display_name": "Python 2",
   "language": "python",
   "name": "python2"
  },
  "language_info": {
   "codemirror_mode": {
    "name": "ipython",
    "version": 2
   },
   "file_extension": ".py",
   "mimetype": "text/x-python",
   "name": "python",
   "nbconvert_exporter": "python",
   "pygments_lexer": "ipython2",
   "version": "2.7.8"
  }
 },
 "nbformat": 4,
 "nbformat_minor": 0
}
