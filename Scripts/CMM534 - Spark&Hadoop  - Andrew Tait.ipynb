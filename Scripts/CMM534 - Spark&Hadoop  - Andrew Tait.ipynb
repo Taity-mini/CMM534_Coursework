{
 "cells": [
  {
   "cell_type": "markdown",
   "metadata": {},
   "source": [
    "# Exploring the data"
   ]
  },
  {
   "cell_type": "code",
   "execution_count": null,
   "metadata": {
    "collapsed": true
   },
   "outputs": [],
   "source": [
    "#Get the log files"
   ]
  },
  {
   "cell_type": "code",
   "execution_count": 1,
   "metadata": {
    "collapsed": true
   },
   "outputs": [],
   "source": [
    "flumeFiles = (\"/loudacre/weblogs/FlumeData.*\")"
   ]
  },
  {
   "cell_type": "code",
   "execution_count": 2,
   "metadata": {
    "collapsed": true
   },
   "outputs": [],
   "source": [
    "accountFiles = (\"/loudacre/accounts/part-m*\")"
   ]
  },
  {
   "cell_type": "code",
   "execution_count": 3,
   "metadata": {
    "collapsed": true
   },
   "outputs": [],
   "source": [
    "baseStation = (\"/loudacre/base_stations.tsv\")"
   ]
  },
  {
   "cell_type": "code",
   "execution_count": null,
   "metadata": {
    "collapsed": true
   },
   "outputs": [],
   "source": [
    "# Setup RDS"
   ]
  },
  {
   "cell_type": "code",
   "execution_count": 4,
   "metadata": {
    "collapsed": true
   },
   "outputs": [],
   "source": [
    "accounts = sc.textFile(accountFiles).map(lambda line: line.split(','))"
   ]
  },
  {
   "cell_type": "code",
   "execution_count": 5,
   "metadata": {
    "collapsed": false
   },
   "outputs": [],
   "source": [
    "basestations = sc.textFile(baseStation).map(lambda line: line.split('\\t'))"
   ]
  },
  {
   "cell_type": "code",
   "execution_count": 6,
   "metadata": {
    "collapsed": false
   },
   "outputs": [
    {
     "data": {
      "text/plain": [
       "[[u'1',\n",
       "  u'2008-10-23 16:05:05.0',\n",
       "  u'\\\\N',\n",
       "  u'Donald',\n",
       "  u'Becton',\n",
       "  u'2275 Washburn Street',\n",
       "  u'Oakland',\n",
       "  u'CA',\n",
       "  u'94660',\n",
       "  u'5100032418',\n",
       "  u'2014-03-18 13:29:47.0',\n",
       "  u'2014-03-18 13:29:47.0'],\n",
       " [u'2',\n",
       "  u'2008-11-12 03:00:01.0',\n",
       "  u'\\\\N',\n",
       "  u'Donna',\n",
       "  u'Jones',\n",
       "  u'3885 Elliott Street',\n",
       "  u'San Francisco',\n",
       "  u'CA',\n",
       "  u'94171',\n",
       "  u'4150835799',\n",
       "  u'2014-03-18 13:29:47.0',\n",
       "  u'2014-03-18 13:29:47.0'],\n",
       " [u'3',\n",
       "  u'2008-12-21 09:19:50.0',\n",
       "  u'\\\\N',\n",
       "  u'Dorthy',\n",
       "  u'Chalmers',\n",
       "  u'4073 Whaley Lane',\n",
       "  u'San Mateo',\n",
       "  u'CA',\n",
       "  u'94479',\n",
       "  u'6506877757',\n",
       "  u'2014-03-18 13:29:47.0',\n",
       "  u'2014-03-18 13:29:47.0'],\n",
       " [u'4',\n",
       "  u'2008-11-28 00:08:09.0',\n",
       "  u'\\\\N',\n",
       "  u'Leila',\n",
       "  u'Spencer',\n",
       "  u'1447 Ross Street',\n",
       "  u'San Mateo',\n",
       "  u'CA',\n",
       "  u'94444',\n",
       "  u'6503198619',\n",
       "  u'2014-03-18 13:29:47.0',\n",
       "  u'2014-03-18 13:29:47.0'],\n",
       " [u'5',\n",
       "  u'2008-11-15 23:06:06.0',\n",
       "  u'\\\\N',\n",
       "  u'Anita',\n",
       "  u'Laughlin',\n",
       "  u'2767 Hill Street',\n",
       "  u'Richmond',\n",
       "  u'CA',\n",
       "  u'94872',\n",
       "  u'5107754354',\n",
       "  u'2014-03-18 13:29:47.0',\n",
       "  u'2014-03-18 13:29:47.0']]"
      ]
     },
     "execution_count": 6,
     "metadata": {},
     "output_type": "execute_result"
    }
   ],
   "source": [
    "accounts.take(5)"
   ]
  },
  {
   "cell_type": "code",
   "execution_count": 7,
   "metadata": {
    "collapsed": false
   },
   "outputs": [
    {
     "data": {
      "text/plain": [
       "[[u'1', u'86502', u'Chambers', u'AZ', u'35.2375', u'-109.523'],\n",
       " [u'2', u'86514', u'Teec Nos Pos', u'AZ', u'36.7797', u'-109.359'],\n",
       " [u'3', u'85602', u'Benson', u'AZ', u'31.9883', u'-110.2941'],\n",
       " [u'4', u'86011', u'Flagstaff', u'AZ', u'35.6308', u'-112.0524'],\n",
       " [u'5', u'86016', u'Gray Mountain', u'AZ', u'35.6308', u'-112.0524']]"
      ]
     },
     "execution_count": 7,
     "metadata": {},
     "output_type": "execute_result"
    }
   ],
   "source": [
    "basestations.take(5)"
   ]
  },
  {
   "cell_type": "code",
   "execution_count": 8,
   "metadata": {
    "collapsed": false
   },
   "outputs": [
    {
     "data": {
      "text/plain": [
       "129764"
      ]
     },
     "execution_count": 8,
     "metadata": {},
     "output_type": "execute_result"
    }
   ],
   "source": [
    "#How many users are there in total?\n",
    "accounts.count()"
   ]
  },
  {
   "cell_type": "code",
   "execution_count": 9,
   "metadata": {
    "collapsed": false
   },
   "outputs": [],
   "source": [
    "#Take cities from accounts rds\n",
    "cities = accounts.map(lambda fields: (fields[6]))"
   ]
  },
  {
   "cell_type": "code",
   "execution_count": 10,
   "metadata": {
    "collapsed": false
   },
   "outputs": [
    {
     "data": {
      "text/plain": [
       "[u'Oakland', u'San Francisco', u'San Mateo', u'San Mateo', u'Richmond']"
      ]
     },
     "execution_count": 10,
     "metadata": {},
     "output_type": "execute_result"
    }
   ],
   "source": [
    "#Display 5 cities\n",
    "cities.take(5)"
   ]
  },
  {
   "cell_type": "code",
   "execution_count": 11,
   "metadata": {
    "collapsed": false
   },
   "outputs": [],
   "source": [
    "#Get unique cities\n",
    "cities_unique = cities.distinct()"
   ]
  },
  {
   "cell_type": "code",
   "execution_count": 12,
   "metadata": {
    "collapsed": false
   },
   "outputs": [
    {
     "data": {
      "text/plain": [
       "56"
      ]
     },
     "execution_count": 12,
     "metadata": {},
     "output_type": "execute_result"
    }
   ],
   "source": [
    "#How many cities have users\n",
    "cities_unique.count()"
   ]
  },
  {
   "cell_type": "code",
   "execution_count": 13,
   "metadata": {
    "collapsed": false
   },
   "outputs": [],
   "source": [
    "#Get unique cities per basestations\n",
    "cities_basestations = basestations.map(lambda fields: fields[2]).distinct()"
   ]
  },
  {
   "cell_type": "code",
   "execution_count": 14,
   "metadata": {
    "collapsed": false
   },
   "outputs": [
    {
     "data": {
      "text/plain": [
       "238"
      ]
     },
     "execution_count": 14,
     "metadata": {},
     "output_type": "execute_result"
    }
   ],
   "source": [
    "#How many citeis have base stations\n",
    "cities_basestations.count()"
   ]
  },
  {
   "cell_type": "code",
   "execution_count": 15,
   "metadata": {
    "collapsed": false
   },
   "outputs": [
    {
     "data": {
      "text/plain": [
       "377"
      ]
     },
     "execution_count": 15,
     "metadata": {},
     "output_type": "execute_result"
    }
   ],
   "source": [
    "#How many basestation are there in total?\n",
    "basestations.count()"
   ]
  },
  {
   "cell_type": "markdown",
   "metadata": {},
   "source": [
    "# More detailed Analysis"
   ]
  },
  {
   "cell_type": "code",
   "execution_count": 16,
   "metadata": {
    "collapsed": true
   },
   "outputs": [],
   "source": [
    "#Get all accounts in the Oregon state\n",
    "oregon = accounts.filter(lambda x: \"OR\" in x[7])"
   ]
  },
  {
   "cell_type": "code",
   "execution_count": 17,
   "metadata": {
    "collapsed": false
   },
   "outputs": [
    {
     "data": {
      "text/plain": [
       "13575"
      ]
     },
     "execution_count": 17,
     "metadata": {},
     "output_type": "execute_result"
    }
   ],
   "source": [
    "oregon.count()"
   ]
  },
  {
   "cell_type": "code",
   "execution_count": 18,
   "metadata": {
    "collapsed": false
   },
   "outputs": [
    {
     "data": {
      "text/plain": [
       "[u'3509',\n",
       " u'2010-09-05 22:43:35.0',\n",
       " u'\\\\N',\n",
       " u'Cody',\n",
       " u'Martinez',\n",
       " u'265 Langtown Road',\n",
       " u'Eugene',\n",
       " u'OR',\n",
       " u'97487',\n",
       " u'5414866653',\n",
       " u'2014-03-18 13:29:53.0',\n",
       " u'2014-03-18 13:29:53.0']"
      ]
     },
     "execution_count": 18,
     "metadata": {},
     "output_type": "execute_result"
    }
   ],
   "source": [
    "oregon.first()"
   ]
  },
  {
   "cell_type": "code",
   "execution_count": 19,
   "metadata": {
    "collapsed": false
   },
   "outputs": [],
   "source": [
    "#Get the total ammount of users per city in oregon\n",
    "oregonUsers = oregon.map(lambda fields: (fields[6])).map(lambda word: (word,1))\\\n",
    ".reduceByKey(lambda v1,v2:\tv1+v2)"
   ]
  },
  {
   "cell_type": "code",
   "execution_count": 20,
   "metadata": {
    "collapsed": false
   },
   "outputs": [
    {
     "data": {
      "text/plain": [
       "7"
      ]
     },
     "execution_count": 20,
     "metadata": {},
     "output_type": "execute_result"
    }
   ],
   "source": [
    "oregonUsers.count()"
   ]
  },
  {
   "cell_type": "code",
   "execution_count": 21,
   "metadata": {
    "collapsed": false
   },
   "outputs": [
    {
     "name": "stdout",
     "output_type": "stream",
     "text": [
      "Salem 1496\n",
      "Portland 4602\n",
      "Klamath Falls 1463\n",
      "Medford 1511\n",
      "Eugene 1520\n",
      "Pendleton 1455\n",
      "Bend 1528\n"
     ]
    }
   ],
   "source": [
    "#Display all the cities in oregon and their user count\n",
    "for items in oregonUsers.take(7):\n",
    "    print items[0], items[1]"
   ]
  },
  {
   "cell_type": "code",
   "execution_count": 22,
   "metadata": {
    "collapsed": false
   },
   "outputs": [],
   "source": [
    "#Get RDD of all users and their cities\n",
    "allUsersCities = accounts.map(lambda fields: (fields[6])).map(lambda word: (word,1))\\\n",
    ".reduceByKey(lambda v1,v2:\tv1+v2)"
   ]
  },
  {
   "cell_type": "code",
   "execution_count": 23,
   "metadata": {
    "collapsed": false
   },
   "outputs": [
    {
     "data": {
      "text/plain": [
       "[(u'Sacramento', 6820),\n",
       " (u'San Diego', 4618),\n",
       " (u'Santa Barbara', 3067),\n",
       " (u'Anaheim', 1544),\n",
       " (u'Salem', 1496)]"
      ]
     },
     "execution_count": 23,
     "metadata": {},
     "output_type": "execute_result"
    }
   ],
   "source": [
    "#Show the first 5  rows\n",
    "allUsersCities.take(5)"
   ]
  },
  {
   "cell_type": "code",
   "execution_count": 24,
   "metadata": {
    "collapsed": false
   },
   "outputs": [],
   "source": [
    "#Count how many bases are in each city\n",
    "allBasesCities = basestations.map(lambda fields: (fields[2])).map(lambda word: (word,1))\\\n",
    ".reduceByKey(lambda v1,v2:\tv1+v2)"
   ]
  },
  {
   "cell_type": "code",
   "execution_count": 25,
   "metadata": {
    "collapsed": false
   },
   "outputs": [
    {
     "data": {
      "text/plain": [
       "[(u'Blue', 1),\n",
       " (u'Loomis', 1),\n",
       " (u'Baker City', 1),\n",
       " (u'Packwood', 1),\n",
       " (u'Bullhead City', 1),\n",
       " (u'Santa Fe Springs', 1),\n",
       " (u'Round Mountain', 1),\n",
       " (u'Apple Valley', 1),\n",
       " (u'Eldridge', 1),\n",
       " (u'Santa Rosa', 1)]"
      ]
     },
     "execution_count": 25,
     "metadata": {},
     "output_type": "execute_result"
    }
   ],
   "source": [
    "\n",
    "allBasesCities.take(10)"
   ]
  },
  {
   "cell_type": "code",
   "execution_count": 26,
   "metadata": {
    "collapsed": false
   },
   "outputs": [],
   "source": [
    "#Join all bases and users counts together\n",
    "cityUsersBases = allUsersCities.join(allBasesCities)"
   ]
  },
  {
   "cell_type": "code",
   "execution_count": 27,
   "metadata": {
    "collapsed": false
   },
   "outputs": [
    {
     "data": {
      "text/plain": [
       "[(u'Carson City', (1360, 1)),\n",
       " (u'Glendale', (1493, 2)),\n",
       " (u'Richmond', (1746, 1)),\n",
       " (u'San Francisco', (3354, 15)),\n",
       " (u'Sacramento', (6820, 4)),\n",
       " (u'Flagstaff', (1181, 1)),\n",
       " (u'Long Beach', (4500, 3)),\n",
       " (u'Palm Springs', (1482, 1)),\n",
       " (u'Redding', (1587, 1)),\n",
       " (u'Riverside', (1477, 1))]"
      ]
     },
     "execution_count": 27,
     "metadata": {},
     "output_type": "execute_result"
    }
   ],
   "source": [
    "cityUsersBases.take(10)"
   ]
  },
  {
   "cell_type": "code",
   "execution_count": 28,
   "metadata": {
    "collapsed": true
   },
   "outputs": [],
   "source": [
    "#Flat map RDD so it can be run in a loop\n",
    "cityUsersBases = cityUsersBases.map(lambda (city, (users,bases)) : (city,users, bases))"
   ]
  },
  {
   "cell_type": "code",
   "execution_count": 29,
   "metadata": {
    "collapsed": false
   },
   "outputs": [
    {
     "data": {
      "text/plain": [
       "[(u'Carson City', 1360, 1),\n",
       " (u'Glendale', 1493, 2),\n",
       " (u'Richmond', 1746, 1),\n",
       " (u'San Francisco', 3354, 15),\n",
       " (u'Sacramento', 6820, 4)]"
      ]
     },
     "execution_count": 29,
     "metadata": {},
     "output_type": "execute_result"
    }
   ],
   "source": [
    "cityUsersBases.take(5)"
   ]
  },
  {
   "cell_type": "code",
   "execution_count": 30,
   "metadata": {
    "collapsed": false
   },
   "outputs": [
    {
     "name": "stdout",
     "output_type": "stream",
     "text": [
      "Carson City  \t    \t Users \t1360  Bases \t1\n",
      "Glendale  \t    \t Users \t1493  Bases \t2\n",
      "Richmond  \t    \t Users \t1746  Bases \t1\n",
      "San Francisco  \t    \t Users \t3354  Bases \t15\n",
      "Sacramento  \t    \t Users \t6820  Bases \t4\n",
      "Flagstaff  \t    \t Users \t1181  Bases \t1\n",
      "Long Beach  \t    \t Users \t4500  Bases \t3\n",
      "Palm Springs  \t    \t Users \t1482  Bases \t1\n",
      "Redding  \t    \t Users \t1587  Bases \t1\n",
      "Riverside  \t    \t Users \t1477  Bases \t1\n",
      "San Bernardino  \t    \t Users \t2985  Bases \t1\n",
      "Tucson  \t    \t Users \t2308  Bases \t4\n",
      "Anaheim  \t    \t Users \t1544  Bases \t1\n",
      "Portland  \t    \t Users \t4602  Bases \t7\n",
      "Las Vegas  \t    \t Users \t4142  Bases \t7\n",
      "Pasadena  \t    \t Users \t2961  Bases \t2\n",
      "San Diego  \t    \t Users \t4618  Bases \t18\n",
      "Oakland  \t    \t Users \t3491  Bases \t2\n",
      "San Jose  \t    \t Users \t3269  Bases \t15\n",
      "Alhambra  \t    \t Users \t1487  Bases \t1\n",
      "San Mateo  \t    \t Users \t1768  Bases \t2\n",
      "Stockton  \t    \t Users \t3309  Bases \t2\n",
      "Santa Barbara  \t    \t Users \t3067  Bases \t2\n",
      "Reno  \t    \t Users \t2787  Bases \t2\n",
      "Santa Rosa  \t    \t Users \t3340  Bases \t1\n",
      "Phoenix  \t    \t Users \t4648  Bases \t1\n",
      "Torrance  \t    \t Users \t1454  Bases \t1\n",
      "Los Angeles  \t    \t Users \t2979  Bases \t23\n",
      "Burbank  \t    \t Users \t1495  Bases \t2\n",
      "Inglewood  \t    \t Users \t3023  Bases \t1\n",
      "Berkeley  \t    \t Users \t1698  Bases \t1\n",
      "Fresno  \t    \t Users \t4418  Bases \t2\n"
     ]
    }
   ],
   "source": [
    "#Display cities with user and base counts\n",
    "for items in cityUsersBases.take(32):\n",
    "    print items[0], ' \\t    \\t Users \\t' , items[1], ' Bases \\t', items[2]"
   ]
  },
  {
   "cell_type": "code",
   "execution_count": 31,
   "metadata": {
    "collapsed": true
   },
   "outputs": [],
   "source": [
    "#Get weblog flume data\n",
    "kbreqs = sc.textFile(flumeFiles).map(lambda line: line.split(' '))\n"
   ]
  },
  {
   "cell_type": "code",
   "execution_count": 32,
   "metadata": {
    "collapsed": false
   },
   "outputs": [
    {
     "data": {
      "text/plain": [
       "[u'3.94.78.5',\n",
       " u'-',\n",
       " u'69827',\n",
       " u'[15/Sep/2013:23:58:36',\n",
       " u'+0100]',\n",
       " u'\"GET',\n",
       " u'/KBDOC-00033.html',\n",
       " u'HTTP/1.0\"',\n",
       " u'200',\n",
       " u'14417',\n",
       " u'\"http://www.loudacre.com\"',\n",
       " u'',\n",
       " u'\"Loudacre',\n",
       " u'Mobile',\n",
       " u'Browser',\n",
       " u'iFruit',\n",
       " u'1\"']"
      ]
     },
     "execution_count": 32,
     "metadata": {},
     "output_type": "execute_result"
    }
   ],
   "source": [
    "kbreqs.first()"
   ]
  },
  {
   "cell_type": "code",
   "execution_count": 33,
   "metadata": {
    "collapsed": true
   },
   "outputs": [],
   "source": [
    "#Count how many requests each user has made\n",
    "userRequests = kbreqs.map(lambda fields: (fields[2])).map(lambda word: (word,1))\\\n",
    ".reduceByKey(lambda v1,v2:\tv1+v2)"
   ]
  },
  {
   "cell_type": "code",
   "execution_count": 34,
   "metadata": {
    "collapsed": false
   },
   "outputs": [
    {
     "data": {
      "text/plain": [
       "[(u'127716', 8),\n",
       " (u'59557', 8),\n",
       " (u'38059', 2),\n",
       " (u'99252', 2),\n",
       " (u'108342', 4),\n",
       " (u'43270', 8),\n",
       " (u'87287', 10),\n",
       " (u'84224', 20),\n",
       " (u'63499', 4),\n",
       " (u'101407', 67)]"
      ]
     },
     "execution_count": 34,
     "metadata": {},
     "output_type": "execute_result"
    }
   ],
   "source": [
    "userRequests.take(10)"
   ]
  },
  {
   "cell_type": "code",
   "execution_count": 35,
   "metadata": {
    "collapsed": false
   },
   "outputs": [],
   "source": [
    "#Get all users and their states\n",
    "userStates = accounts.map(lambda fields: (fields[0] ,fields[7]))"
   ]
  },
  {
   "cell_type": "code",
   "execution_count": 36,
   "metadata": {
    "collapsed": false
   },
   "outputs": [
    {
     "data": {
      "text/plain": [
       "[(u'1', u'CA'), (u'2', u'CA'), (u'3', u'CA'), (u'4', u'CA'), (u'5', u'CA')]"
      ]
     },
     "execution_count": 36,
     "metadata": {},
     "output_type": "execute_result"
    }
   ],
   "source": [
    "userStates.take(5)"
   ]
  },
  {
   "cell_type": "code",
   "execution_count": 37,
   "metadata": {
    "collapsed": false
   },
   "outputs": [],
   "source": [
    "#Join user requests and states\n",
    "userStateRequests = userStates.join(userRequests)\\\n",
    ".map(lambda (userID, (state,requests)) : (state, (requests, userID)))"
   ]
  },
  {
   "cell_type": "code",
   "execution_count": 38,
   "metadata": {
    "collapsed": false
   },
   "outputs": [
    {
     "data": {
      "text/plain": [
       "[(u'CA', (6, u'18886')),\n",
       " (u'CA', (100, u'60986')),\n",
       " (u'CA', (10, u'41969')),\n",
       " (u'CA', (2, u'28858')),\n",
       " (u'OR', (46, u'25965'))]"
      ]
     },
     "execution_count": 38,
     "metadata": {},
     "output_type": "execute_result"
    }
   ],
   "source": [
    "userStateRequests.take(5)"
   ]
  },
  {
   "cell_type": "code",
   "execution_count": 39,
   "metadata": {
    "collapsed": false
   },
   "outputs": [],
   "source": [
    "#Find the maximum number requests per state\n",
    "maxUSRs = userStateRequests.reduceByKey(max)"
   ]
  },
  {
   "cell_type": "code",
   "execution_count": 40,
   "metadata": {
    "collapsed": false
   },
   "outputs": [
    {
     "data": {
      "text/plain": [
       "[(u'NV', (125, u'20382')),\n",
       " (u'OR', (122, u'60223')),\n",
       " (u'AZ', (120, u'50367')),\n",
       " (u'CA', (1538, u'203'))]"
      ]
     },
     "execution_count": 40,
     "metadata": {},
     "output_type": "execute_result"
    }
   ],
   "source": [
    "maxUSRs.take(10)"
   ]
  },
  {
   "cell_type": "code",
   "execution_count": 41,
   "metadata": {
    "collapsed": false
   },
   "outputs": [],
   "source": [
    "#Reorder and flat map RDD so it can be looped\n",
    "maxRequests = maxUSRs.map(lambda (state, (requests,userID)) : (state,userID, requests))"
   ]
  },
  {
   "cell_type": "code",
   "execution_count": 42,
   "metadata": {
    "collapsed": false
   },
   "outputs": [
    {
     "data": {
      "text/plain": [
       "4"
      ]
     },
     "execution_count": 42,
     "metadata": {},
     "output_type": "execute_result"
    }
   ],
   "source": [
    "maxRequests.count()"
   ]
  },
  {
   "cell_type": "code",
   "execution_count": 43,
   "metadata": {
    "collapsed": false
   },
   "outputs": [
    {
     "name": "stdout",
     "output_type": "stream",
     "text": [
      "NV |  Biggest user: \t20382 \t Requests: \t125\n",
      "OR |  Biggest user: \t60223 \t Requests: \t122\n",
      "AZ |  Biggest user: \t50367 \t Requests: \t120\n",
      "CA |  Biggest user: \t203 \t Requests: \t1538\n"
     ]
    }
   ],
   "source": [
    "#Display states and the user with biggest ammount of requests\n",
    "for items in maxRequests.take(4):\n",
    "    print items[0], '|  Biggest user: \\t' , items[1], '\\t Requests: \\t', items[2]"
   ]
  }
 ],
 "metadata": {
  "kernelspec": {
   "display_name": "Python 2",
   "language": "python",
   "name": "python2"
  },
  "language_info": {
   "codemirror_mode": {
    "name": "ipython",
    "version": 2
   },
   "file_extension": ".py",
   "mimetype": "text/x-python",
   "name": "python",
   "nbconvert_exporter": "python",
   "pygments_lexer": "ipython2",
   "version": "2.7.8"
  }
 },
 "nbformat": 4,
 "nbformat_minor": 0
}
